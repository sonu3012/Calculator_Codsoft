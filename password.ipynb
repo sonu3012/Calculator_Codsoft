{
 "cells": [
  {
   "cell_type": "code",
   "execution_count": null,
   "id": "68895708",
   "metadata": {},
   "outputs": [],
   "source": [
    "import tkinter as tk\n",
    "from tkinter import ttk\n",
    "import random\n",
    "import string\n",
    "\n",
    "def generate_password():\n",
    "    length = int(length_entry.get())\n",
    "    use_uppercase = uppercase_var.get()\n",
    "    use_numbers = numbers_var.get()\n",
    "    use_symbols = symbols_var.get()\n",
    "\n",
    "    characters = string.ascii_lowercase\n",
    "    if use_uppercase:\n",
    "        characters += string.ascii_uppercase\n",
    "    if use_numbers:\n",
    "        characters += string.digits\n",
    "    if use_symbols:\n",
    "        characters += string.punctuation\n",
    "\n",
    "    generated_password = ''.join(random.choice(characters) for _ in range(length))\n",
    "    result_label.config(text=f\"Generated Password: {generated_password}\", foreground=\"#008080\")\n",
    "\n",
    "root = tk.Tk()\n",
    "root.title(\"Password Generator\")\n",
    "root.geometry(\"400x250\")\n",
    "root.configure(bg=\"#F5F5F5\")\n",
    "\n",
    "length_label = tk.Label(root, text=\"Password Length:\", font=(\"Arial\", 12), bg=\"#F5F5F5\")\n",
    "length_label.grid(row=0, column=0, padx=10, pady=10, sticky=tk.W)\n",
    "\n",
    "length_entry = tk.Entry(root, font=(\"Arial\", 12))\n",
    "length_entry.grid(row=0, column=1, padx=10, pady=10, sticky=tk.W)\n",
    "\n",
    "uppercase_var = tk.BooleanVar()\n",
    "uppercase_checkbutton = ttk.Checkbutton(root, text=\"Uppercase\", variable=uppercase_var, style=\"Checkbutton.TCheckbutton\")\n",
    "uppercase_checkbutton.grid(row=1, column=0, padx=10, pady=5, sticky=tk.W)\n",
    "\n",
    "numbers_var = tk.BooleanVar()\n",
    "numbers_checkbutton = ttk.Checkbutton(root, text=\"Numbers\", variable=numbers_var, style=\"Checkbutton.TCheckbutton\")\n",
    "numbers_checkbutton.grid(row=1, column=1, padx=10, pady=5, sticky=tk.W)\n",
    "\n",
    "symbols_var = tk.BooleanVar()\n",
    "symbols_checkbutton = ttk.Checkbutton(root, text=\"Symbols\", variable=symbols_var, style=\"Checkbutton.TCheckbutton\")\n",
    "symbols_checkbutton.grid(row=1, column=2, padx=10, pady=5, sticky=tk.W)\n",
    "\n",
    "generate_button = tk.Button(root, text=\"Generate Password\", command=generate_password, font=(\"Arial\", 12), bg=\"#008080\", fg=\"white\")\n",
    "generate_button.grid(row=2, column=0, columnspan=3, pady=10)\n",
    "\n",
    "result_label = tk.Label(root, text=\"Generated Password: \", font=(\"Arial\", 12), bg=\"#F5F5F5\")\n",
    "result_label.grid(row=3, column=0, columnspan=3, padx=10, pady=10)\n",
    "\n",
    "style = ttk.Style()\n",
    "style.configure(\"Checkbutton.TCheckbutton\", background=\"#008080\", foreground=\"white\", font=(\"Arial\", 10))\n",
    "\n",
    "root.mainloop()\n"
   ]
  }
 ],
 "metadata": {
  "kernelspec": {
   "display_name": "Python 3 (ipykernel)",
   "language": "python",
   "name": "python3"
  },
  "language_info": {
   "codemirror_mode": {
    "name": "ipython",
    "version": 3
   },
   "file_extension": ".py",
   "mimetype": "text/x-python",
   "name": "python",
   "nbconvert_exporter": "python",
   "pygments_lexer": "ipython3",
   "version": "3.9.13"
  }
 },
 "nbformat": 4,
 "nbformat_minor": 5
}
