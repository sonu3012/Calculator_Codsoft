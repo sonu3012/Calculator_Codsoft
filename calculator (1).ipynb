{
 "cells": [
  {
   "cell_type": "code",
   "execution_count": null,
   "id": "ac67eb7e",
   "metadata": {},
   "outputs": [],
   "source": []
  },
  {
   "cell_type": "code",
   "execution_count": null,
   "id": "78c9ca6b",
   "metadata": {},
   "outputs": [],
   "source": [
    "import tkinter as tk\n",
    "\n",
    "def on_click(button_text):\n",
    "    current_text = entry.get()\n",
    "    \n",
    "    if button_text == \"=\":\n",
    "        try:\n",
    "            result = eval(current_text)\n",
    "            entry.delete(0, tk.END)\n",
    "            entry.insert(tk.END, str(result))\n",
    "        except Exception as e:\n",
    "            entry.delete(0, tk.END)\n",
    "            entry.insert(tk.END, \"Error\")\n",
    "    elif button_text == \"C\":\n",
    "        entry.delete(0, tk.END)\n",
    "    else:\n",
    "        entry.insert(tk.END, button_text)\n",
    "\n",
    "root = tk.Tk()\n",
    "root.title(\"Simple Calculator\")\n",
    "\n",
    "entry = tk.Entry(root, width=20, font=(\"Arial\", 14))\n",
    "entry.grid(row=0, column=0, columnspan=4)\n",
    "\n",
    "buttons = [\n",
    "    '7', '8', '9', '/',\n",
    "    '4', '5', '6', '*',\n",
    "    '1', '2', '3', '-',\n",
    "    '0', '.', '=', '+',\n",
    "    'C'\n",
    "]\n",
    "\n",
    "row_val = 1\n",
    "col_val = 0\n",
    "for button_text in buttons:\n",
    "    tk.Button(root, text=button_text, width=5, height=2,\n",
    "              command=lambda text=button_text: on_click(text)).grid(row=row_val, column=col_val)\n",
    "    col_val += 1\n",
    "    if col_val > 3:\n",
    "        col_val = 0\n",
    "        row_val += 1\n",
    "\n",
    "root.mainloop()"
   ]
  }
 ],
 "metadata": {
  "kernelspec": {
   "display_name": "Python 3 (ipykernel)",
   "language": "python",
   "name": "python3"
  },
  "language_info": {
   "codemirror_mode": {
    "name": "ipython",
    "version": 3
   },
   "file_extension": ".py",
   "mimetype": "text/x-python",
   "name": "python",
   "nbconvert_exporter": "python",
   "pygments_lexer": "ipython3",
   "version": "3.9.13"
  }
 },
 "nbformat": 4,
 "nbformat_minor": 5
}
